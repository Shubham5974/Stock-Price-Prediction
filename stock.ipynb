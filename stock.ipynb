{
 "cells": [
  {
   "cell_type": "code",
   "execution_count": 1,
   "metadata": {},
   "outputs": [],
   "source": [
    "import numpy as np\n",
    "import pandas as pd\n",
    "\n",
    "import yfinance as yf\n",
    "\n",
    "import seaborn as sns\n",
    "import matplotlib.pyplot as plt\n",
    "%matplotlib inline"
   ]
  },
  {
   "cell_type": "code",
   "execution_count": 2,
   "metadata": {},
   "outputs": [
    {
     "name": "stdout",
     "output_type": "stream",
     "text": [
      "[*********************100%***********************]  1 of 1 completed\n"
     ]
    },
    {
     "data": {
      "text/html": [
       "<div>\n",
       "<style scoped>\n",
       "    .dataframe tbody tr th:only-of-type {\n",
       "        vertical-align: middle;\n",
       "    }\n",
       "\n",
       "    .dataframe tbody tr th {\n",
       "        vertical-align: top;\n",
       "    }\n",
       "\n",
       "    .dataframe thead th {\n",
       "        text-align: right;\n",
       "    }\n",
       "</style>\n",
       "<table border=\"1\" class=\"dataframe\">\n",
       "  <thead>\n",
       "    <tr style=\"text-align: right;\">\n",
       "      <th></th>\n",
       "      <th>Open</th>\n",
       "      <th>High</th>\n",
       "      <th>Low</th>\n",
       "      <th>Close</th>\n",
       "      <th>Volume</th>\n",
       "    </tr>\n",
       "    <tr>\n",
       "      <th>Date</th>\n",
       "      <th></th>\n",
       "      <th></th>\n",
       "      <th></th>\n",
       "      <th></th>\n",
       "      <th></th>\n",
       "    </tr>\n",
       "  </thead>\n",
       "  <tbody>\n",
       "    <tr>\n",
       "      <th>2015-01-02</th>\n",
       "      <td>2.845</td>\n",
       "      <td>3.096</td>\n",
       "      <td>2.805</td>\n",
       "      <td>3.003</td>\n",
       "      <td>109122</td>\n",
       "    </tr>\n",
       "    <tr>\n",
       "      <th>2015-01-05</th>\n",
       "      <td>3.076</td>\n",
       "      <td>3.176</td>\n",
       "      <td>2.875</td>\n",
       "      <td>2.882</td>\n",
       "      <td>141783</td>\n",
       "    </tr>\n",
       "    <tr>\n",
       "      <th>2015-01-06</th>\n",
       "      <td>2.921</td>\n",
       "      <td>2.955</td>\n",
       "      <td>2.811</td>\n",
       "      <td>2.938</td>\n",
       "      <td>111338</td>\n",
       "    </tr>\n",
       "    <tr>\n",
       "      <th>2015-01-07</th>\n",
       "      <td>2.949</td>\n",
       "      <td>3.012</td>\n",
       "      <td>2.825</td>\n",
       "      <td>2.871</td>\n",
       "      <td>134826</td>\n",
       "    </tr>\n",
       "    <tr>\n",
       "      <th>2015-01-08</th>\n",
       "      <td>2.877</td>\n",
       "      <td>2.968</td>\n",
       "      <td>2.816</td>\n",
       "      <td>2.927</td>\n",
       "      <td>147797</td>\n",
       "    </tr>\n",
       "  </tbody>\n",
       "</table>\n",
       "</div>"
      ],
      "text/plain": [
       "             Open   High    Low  Close  Volume\n",
       "Date                                          \n",
       "2015-01-02  2.845  3.096  2.805  3.003  109122\n",
       "2015-01-05  3.076  3.176  2.875  2.882  141783\n",
       "2015-01-06  2.921  2.955  2.811  2.938  111338\n",
       "2015-01-07  2.949  3.012  2.825  2.871  134826\n",
       "2015-01-08  2.877  2.968  2.816  2.927  147797"
      ]
     },
     "execution_count": 2,
     "metadata": {},
     "output_type": "execute_result"
    }
   ],
   "source": [
    "stocks = input(\"Enter the code of the stock:\")\n",
    "data = yf.download(stocks, \"2015-01-01\", \"2023-05-26\", auto_adjust=True)\n",
    "data.head()"
   ]
  },
  {
   "cell_type": "code",
   "execution_count": 3,
   "metadata": {},
   "outputs": [
    {
     "data": {
      "text/plain": [
       "(2112, 5)"
      ]
     },
     "execution_count": 3,
     "metadata": {},
     "output_type": "execute_result"
    }
   ],
   "source": [
    "data.shape"
   ]
  },
  {
   "cell_type": "code",
   "execution_count": 4,
   "metadata": {},
   "outputs": [
    {
     "name": "stdout",
     "output_type": "stream",
     "text": [
      "<class 'pandas.core.frame.DataFrame'>\n",
      "DatetimeIndex: 2112 entries, 2015-01-02 to 2023-05-25\n",
      "Data columns (total 5 columns):\n",
      " #   Column  Non-Null Count  Dtype  \n",
      "---  ------  --------------  -----  \n",
      " 0   Open    2112 non-null   float64\n",
      " 1   High    2112 non-null   float64\n",
      " 2   Low     2112 non-null   float64\n",
      " 3   Close   2112 non-null   float64\n",
      " 4   Volume  2112 non-null   int64  \n",
      "dtypes: float64(4), int64(1)\n",
      "memory usage: 99.0 KB\n"
     ]
    }
   ],
   "source": [
    "data.info()"
   ]
  },
  {
   "cell_type": "code",
   "execution_count": 5,
   "metadata": {},
   "outputs": [
    {
     "data": {
      "text/html": [
       "<div>\n",
       "<style scoped>\n",
       "    .dataframe tbody tr th:only-of-type {\n",
       "        vertical-align: middle;\n",
       "    }\n",
       "\n",
       "    .dataframe tbody tr th {\n",
       "        vertical-align: top;\n",
       "    }\n",
       "\n",
       "    .dataframe thead th {\n",
       "        text-align: right;\n",
       "    }\n",
       "</style>\n",
       "<table border=\"1\" class=\"dataframe\">\n",
       "  <thead>\n",
       "    <tr style=\"text-align: right;\">\n",
       "      <th></th>\n",
       "      <th>Open</th>\n",
       "      <th>High</th>\n",
       "      <th>Low</th>\n",
       "      <th>Close</th>\n",
       "      <th>Volume</th>\n",
       "    </tr>\n",
       "  </thead>\n",
       "  <tbody>\n",
       "    <tr>\n",
       "      <th>count</th>\n",
       "      <td>2112.000000</td>\n",
       "      <td>2112.000000</td>\n",
       "      <td>2112.000000</td>\n",
       "      <td>2112.000000</td>\n",
       "      <td>2112.000000</td>\n",
       "    </tr>\n",
       "    <tr>\n",
       "      <th>mean</th>\n",
       "      <td>3.241835</td>\n",
       "      <td>3.326002</td>\n",
       "      <td>3.158066</td>\n",
       "      <td>3.238064</td>\n",
       "      <td>144138.359848</td>\n",
       "    </tr>\n",
       "    <tr>\n",
       "      <th>std</th>\n",
       "      <td>1.486531</td>\n",
       "      <td>1.555858</td>\n",
       "      <td>1.417865</td>\n",
       "      <td>1.484545</td>\n",
       "      <td>57519.938187</td>\n",
       "    </tr>\n",
       "    <tr>\n",
       "      <th>min</th>\n",
       "      <td>1.441000</td>\n",
       "      <td>1.567000</td>\n",
       "      <td>1.432000</td>\n",
       "      <td>1.482000</td>\n",
       "      <td>0.000000</td>\n",
       "    </tr>\n",
       "    <tr>\n",
       "      <th>25%</th>\n",
       "      <td>2.480750</td>\n",
       "      <td>2.539750</td>\n",
       "      <td>2.421750</td>\n",
       "      <td>2.470000</td>\n",
       "      <td>107723.500000</td>\n",
       "    </tr>\n",
       "    <tr>\n",
       "      <th>50%</th>\n",
       "      <td>2.814500</td>\n",
       "      <td>2.857000</td>\n",
       "      <td>2.764000</td>\n",
       "      <td>2.812000</td>\n",
       "      <td>139681.000000</td>\n",
       "    </tr>\n",
       "    <tr>\n",
       "      <th>75%</th>\n",
       "      <td>3.236500</td>\n",
       "      <td>3.281250</td>\n",
       "      <td>3.166250</td>\n",
       "      <td>3.230000</td>\n",
       "      <td>174741.000000</td>\n",
       "    </tr>\n",
       "    <tr>\n",
       "      <th>max</th>\n",
       "      <td>9.817000</td>\n",
       "      <td>10.028000</td>\n",
       "      <td>9.200000</td>\n",
       "      <td>9.680000</td>\n",
       "      <td>459196.000000</td>\n",
       "    </tr>\n",
       "  </tbody>\n",
       "</table>\n",
       "</div>"
      ],
      "text/plain": [
       "              Open         High          Low        Close         Volume\n",
       "count  2112.000000  2112.000000  2112.000000  2112.000000    2112.000000\n",
       "mean      3.241835     3.326002     3.158066     3.238064  144138.359848\n",
       "std       1.486531     1.555858     1.417865     1.484545   57519.938187\n",
       "min       1.441000     1.567000     1.432000     1.482000       0.000000\n",
       "25%       2.480750     2.539750     2.421750     2.470000  107723.500000\n",
       "50%       2.814500     2.857000     2.764000     2.812000  139681.000000\n",
       "75%       3.236500     3.281250     3.166250     3.230000  174741.000000\n",
       "max       9.817000    10.028000     9.200000     9.680000  459196.000000"
      ]
     },
     "execution_count": 5,
     "metadata": {},
     "output_type": "execute_result"
    }
   ],
   "source": [
    "data.describe()"
   ]
  },
  {
   "cell_type": "code",
   "execution_count": 6,
   "metadata": {},
   "outputs": [
    {
     "data": {
      "image/png": "[encoded data removed]",
      "text/plain": [
       "<Figure size 1000x700 with 1 Axes>"
      ]
     },
     "metadata": {},
     "output_type": "display_data"
    }
   ],
   "source": [
    "data.Close.plot(figsize=(10,7),color='b')\n",
    "plt.ylabel(\"{} Prices\".format(stocks))\n",
    "plt.title(\"{} Price Series\".format(stocks))\n",
    "plt.show()"
   ]
  },
  {
   "cell_type": "code",
   "execution_count": 7,
   "metadata": {},
   "outputs": [
    {
     "name": "stderr",
     "output_type": "stream",
     "text": [
      "c:\\Users\\belos\\AppData\\Local\\Programs\\Python\\Python310\\lib\\site-packages\\seaborn\\axisgrid.py:118: UserWarning: The figure layout has changed to tight\n",
      "  self._figure.tight_layout(*args, **kwargs)\n"
     ]
    },
    {
     "data": {
      "text/plain": [
       "<seaborn.axisgrid.FacetGrid at 0x1eb6c2c27d0>"
      ]
     },
     "execution_count": 7,
     "metadata": {},
     "output_type": "execute_result"
    },
    {
     "data": {
      "image/png": "[encoded data removed]",
      "text/plain": [
       "<Figure size 500x500 with 1 Axes>"
      ]
     },
     "metadata": {},
     "output_type": "display_data"
    }
   ],
   "source": [
    "sns.displot(data[\"Close\"])"
   ]
  },
  {
   "cell_type": "code",
   "execution_count": 8,
   "metadata": {},
   "outputs": [
    {
     "name": "stderr",
     "output_type": "stream",
     "text": [
      "c:\\Users\\belos\\AppData\\Local\\Programs\\Python\\Python310\\lib\\site-packages\\seaborn\\axisgrid.py:118: UserWarning: The figure layout has changed to tight\n",
      "  self._figure.tight_layout(*args, **kwargs)\n"
     ]
    },
    {
     "data": {
      "text/plain": [
       "<seaborn.axisgrid.FacetGrid at 0x1eb0d467bb0>"
      ]
     },
     "execution_count": 8,
     "metadata": {},
     "output_type": "execute_result"
    },
    {
     "data": {
      "image/png": "[encoded data removed]",
      "text/plain": [
       "<Figure size 500x500 with 1 Axes>"
      ]
     },
     "metadata": {},
     "output_type": "display_data"
    }
   ],
   "source": [
    "sns.displot(data[\"High\"])"
   ]
  },
  {
   "cell_type": "code",
   "execution_count": 10,
   "metadata": {},
   "outputs": [
    {
     "name": "stdout",
     "output_type": "stream",
     "text": [
      "(1689, 4)\n",
      "(423, 4)\n",
      "(1689,)\n",
      "(423,)\n"
     ]
    }
   ],
   "source": [
    "X = data.drop(\"Close\", axis=1)\n",
    "y = data[\"Close\"]\n",
    "\n",
    "from sklearn.model_selection import train_test_split\n",
    "\n",
    "X_train, X_test, y_train, y_test = train_test_split(X,y,test_size=0.2, random_state=0)\n",
    "print(X_train.shape)\n",
    "print(X_test.shape)\n",
    "print(y_train.shape)\n",
    "print(y_test.shape)"
   ]
  },
  {
   "cell_type": "code",
   "execution_count": 11,
   "metadata": {},
   "outputs": [],
   "source": [
    "from sklearn.linear_model import LinearRegression\n",
    "\n",
    "lr = LinearRegression()\n",
    "lr.fit(X_train, y_train)\n",
    "pred1 = lr.predict(X_test)"
   ]
  },
  {
   "cell_type": "code",
   "execution_count": 13,
   "metadata": {},
   "outputs": [
    {
     "name": "stdout",
     "output_type": "stream",
     "text": [
      "MSE: 0.002441102177912137\n",
      "RMSE: 0.04940751135113099\n",
      "R2_score: 0.998794817758435\n"
     ]
    }
   ],
   "source": [
    "from sklearn.metrics import mean_squared_error, r2_score\n",
    "\n",
    "def calculate_metrics(y_test, y_pred):\n",
    "    mse = mean_squared_error(y_test, y_pred)\n",
    "    rmse = np.sqrt(mse)\n",
    "    r2_scors = r2_score(y_test, y_pred)\n",
    "\n",
    "    print(\"MSE:\", mse)\n",
    "    print(\"RMSE:\", rmse)\n",
    "    print(\"R2_score:\", r2_scors)\n",
    "\n",
    "calculate_metrics(y_test, pred1)"
   ]
  },
  {
   "cell_type": "code",
   "execution_count": 14,
   "metadata": {},
   "outputs": [],
   "source": [
    "from sklearn.linear_model import Lasso, Ridge\n",
    "\n",
    "la = Lasso().fit(X_train, y_train)\n",
    "ri = Ridge().fit(X_train, y_train)\n",
    "\n",
    "la_p = la.predict(X_test)\n",
    "ri_p = ri.predict(X_test)"
   ]
  },
  {
   "cell_type": "code",
   "execution_count": 15,
   "metadata": {},
   "outputs": [
    {
     "name": "stdout",
     "output_type": "stream",
     "text": [
      "MSE: 0.38266860660205454\n",
      "RMSE: 0.6186021391832189\n",
      "R2_score: 0.8110749262140042\n"
     ]
    }
   ],
   "source": [
    "calculate_metrics(y_test, la_p)"
   ]
  },
  {
   "cell_type": "code",
   "execution_count": 16,
   "metadata": {},
   "outputs": [
    {
     "name": "stdout",
     "output_type": "stream",
     "text": [
      "MSE: 0.002549152040170425\n",
      "RMSE: 0.05048912794028458\n",
      "R2_score: 0.998741473094547\n"
     ]
    }
   ],
   "source": [
    "calculate_metrics(y_test, ri_p)"
   ]
  },
  {
   "cell_type": "code",
   "execution_count": 17,
   "metadata": {},
   "outputs": [
    {
     "name": "stdout",
     "output_type": "stream",
     "text": [
      "Fitting 5 folds for each of 25 candidates, totalling 125 fits\n",
      "[CV 1/5] END .......C=0.1, gamma=1, kernel=rbf;, score=-0.138 total time=   0.3s\n",
      "[CV 2/5] END .......C=0.1, gamma=1, kernel=rbf;, score=-0.055 total time=   0.1s\n",
      "[CV 3/5] END .......C=0.1, gamma=1, kernel=rbf;, score=-0.069 total time=   0.1s\n",
      "[CV 4/5] END .......C=0.1, gamma=1, kernel=rbf;, score=-0.074 total time=   0.1s\n",
      "[CV 5/5] END .......C=0.1, gamma=1, kernel=rbf;, score=-0.100 total time=   0.1s\n",
      "[CV 1/5] END .....C=0.1, gamma=0.1, kernel=rbf;, score=-0.138 total time=   0.1s\n",
      "[CV 2/5] END .....C=0.1, gamma=0.1, kernel=rbf;, score=-0.055 total time=   0.1s\n",
      "[CV 3/5] END .....C=0.1, gamma=0.1, kernel=rbf;, score=-0.069 total time=   0.1s\n",
      "[CV 4/5] END .....C=0.1, gamma=0.1, kernel=rbf;, score=-0.074 total time=   0.1s\n",
      "[CV 5/5] END .....C=0.1, gamma=0.1, kernel=rbf;, score=-0.099 total time=   0.1s\n",
      "[CV 1/5] END ....C=0.1, gamma=0.01, kernel=rbf;, score=-0.138 total time=   0.1s\n",
      "[CV 2/5] END ....C=0.1, gamma=0.01, kernel=rbf;, score=-0.056 total time=   0.1s\n",
      "[CV 3/5] END ....C=0.1, gamma=0.01, kernel=rbf;, score=-0.069 total time=   0.1s\n",
      "[CV 4/5] END ....C=0.1, gamma=0.01, kernel=rbf;, score=-0.073 total time=   0.1s\n",
      "[CV 5/5] END ....C=0.1, gamma=0.01, kernel=rbf;, score=-0.099 total time=   0.1s\n",
      "[CV 1/5] END ...C=0.1, gamma=0.001, kernel=rbf;, score=-0.140 total time=   0.1s\n",
      "[CV 2/5] END ...C=0.1, gamma=0.001, kernel=rbf;, score=-0.061 total time=   0.1s\n",
      "[CV 3/5] END ...C=0.1, gamma=0.001, kernel=rbf;, score=-0.069 total time=   0.1s\n",
      "[CV 4/5] END ...C=0.1, gamma=0.001, kernel=rbf;, score=-0.073 total time=   0.1s\n",
      "[CV 5/5] END ...C=0.1, gamma=0.001, kernel=rbf;, score=-0.101 total time=   0.1s\n",
      "[CV 1/5] END ..C=0.1, gamma=0.0001, kernel=rbf;, score=-0.141 total time=   0.1s\n",
      "[CV 2/5] END ..C=0.1, gamma=0.0001, kernel=rbf;, score=-0.063 total time=   0.1s\n",
      "[CV 3/5] END ..C=0.1, gamma=0.0001, kernel=rbf;, score=-0.062 total time=   0.1s\n",
      "[CV 4/5] END ..C=0.1, gamma=0.0001, kernel=rbf;, score=-0.067 total time=   0.1s\n",
      "[CV 5/5] END ..C=0.1, gamma=0.0001, kernel=rbf;, score=-0.100 total time=   0.1s\n",
      "[CV 1/5] END .........C=1, gamma=1, kernel=rbf;, score=-0.096 total time=   0.1s\n",
      "[CV 2/5] END .........C=1, gamma=1, kernel=rbf;, score=-0.021 total time=   0.1s\n",
      "[CV 3/5] END .........C=1, gamma=1, kernel=rbf;, score=-0.035 total time=   0.1s\n",
      "[CV 4/5] END .........C=1, gamma=1, kernel=rbf;, score=-0.037 total time=   0.1s\n",
      "[CV 5/5] END .........C=1, gamma=1, kernel=rbf;, score=-0.062 total time=   0.1s\n",
      "[CV 1/5] END .......C=1, gamma=0.1, kernel=rbf;, score=-0.096 total time=   0.1s\n",
      "[CV 2/5] END .......C=1, gamma=0.1, kernel=rbf;, score=-0.021 total time=   0.1s\n",
      "[CV 3/5] END .......C=1, gamma=0.1, kernel=rbf;, score=-0.035 total time=   0.1s\n",
      "[CV 4/5] END .......C=1, gamma=0.1, kernel=rbf;, score=-0.037 total time=   0.1s\n",
      "[CV 5/5] END .......C=1, gamma=0.1, kernel=rbf;, score=-0.060 total time=   0.1s\n",
      "[CV 1/5] END ......C=1, gamma=0.01, kernel=rbf;, score=-0.104 total time=   0.1s\n",
      "[CV 2/5] END ......C=1, gamma=0.01, kernel=rbf;, score=-0.033 total time=   0.2s\n",
      "[CV 3/5] END ......C=1, gamma=0.01, kernel=rbf;, score=-0.032 total time=   0.1s\n",
      "[CV 4/5] END ......C=1, gamma=0.01, kernel=rbf;, score=-0.033 total time=   0.1s\n",
      "[CV 5/5] END ......C=1, gamma=0.01, kernel=rbf;, score=-0.067 total time=   0.1s\n",
      "[CV 1/5] END .....C=1, gamma=0.001, kernel=rbf;, score=-0.144 total time=   0.1s\n",
      "[CV 2/5] END .....C=1, gamma=0.001, kernel=rbf;, score=-0.081 total time=   0.2s\n",
      "[CV 3/5] END .....C=1, gamma=0.001, kernel=rbf;, score=-0.049 total time=   0.1s\n",
      "[CV 4/5] END .....C=1, gamma=0.001, kernel=rbf;, score=-0.066 total time=   0.1s\n",
      "[CV 5/5] END .....C=1, gamma=0.001, kernel=rbf;, score=-0.103 total time=   0.1s\n",
      "[CV 1/5] END ....C=1, gamma=0.0001, kernel=rbf;, score=-0.191 total time=   0.1s\n",
      "[CV 2/5] END ....C=1, gamma=0.0001, kernel=rbf;, score=-0.144 total time=   0.1s\n",
      "[CV 3/5] END ....C=1, gamma=0.0001, kernel=rbf;, score=-0.066 total time=   0.2s\n",
      "[CV 4/5] END ....C=1, gamma=0.0001, kernel=rbf;, score=-0.100 total time=   0.1s\n",
      "[CV 5/5] END ....C=1, gamma=0.0001, kernel=rbf;, score=-0.136 total time=   0.1s\n",
      "[CV 1/5] END ........C=10, gamma=1, kernel=rbf;, score=-0.004 total time=   0.2s\n",
      "[CV 2/5] END ........C=10, gamma=1, kernel=rbf;, score=-0.019 total time=   0.2s\n",
      "[CV 3/5] END ........C=10, gamma=1, kernel=rbf;, score=-0.004 total time=   0.2s\n",
      "[CV 4/5] END ........C=10, gamma=1, kernel=rbf;, score=-0.008 total time=   0.2s\n",
      "[CV 5/5] END ........C=10, gamma=1, kernel=rbf;, score=-0.000 total time=   0.2s\n",
      "[CV 1/5] END ......C=10, gamma=0.1, kernel=rbf;, score=-0.004 total time=   0.2s\n",
      "[CV 2/5] END ......C=10, gamma=0.1, kernel=rbf;, score=-0.018 total time=   0.1s\n",
      "[CV 3/5] END ......C=10, gamma=0.1, kernel=rbf;, score=-0.002 total time=   0.2s\n",
      "[CV 4/5] END ......C=10, gamma=0.1, kernel=rbf;, score=-0.006 total time=   0.2s\n",
      "[CV 5/5] END .......C=10, gamma=0.1, kernel=rbf;, score=0.002 total time=   0.2s\n",
      "[CV 1/5] END .....C=10, gamma=0.01, kernel=rbf;, score=-0.025 total time=   0.1s\n",
      "[CV 2/5] END .....C=10, gamma=0.01, kernel=rbf;, score=-0.039 total time=   0.1s\n",
      "[CV 3/5] END ......C=10, gamma=0.01, kernel=rbf;, score=0.001 total time=   0.1s\n",
      "[CV 4/5] END .....C=10, gamma=0.01, kernel=rbf;, score=-0.032 total time=   0.2s\n",
      "[CV 5/5] END .....C=10, gamma=0.01, kernel=rbf;, score=-0.020 total time=   0.1s\n",
      "[CV 1/5] END ....C=10, gamma=0.001, kernel=rbf;, score=-0.146 total time=   0.1s\n",
      "[CV 2/5] END ....C=10, gamma=0.001, kernel=rbf;, score=-0.199 total time=   0.1s\n",
      "[CV 3/5] END ....C=10, gamma=0.001, kernel=rbf;, score=-0.166 total time=   0.1s\n",
      "[CV 4/5] END ....C=10, gamma=0.001, kernel=rbf;, score=-0.209 total time=   0.1s\n",
      "[CV 5/5] END ....C=10, gamma=0.001, kernel=rbf;, score=-0.216 total time=   0.1s\n",
      "[CV 1/5] END ...C=10, gamma=0.0001, kernel=rbf;, score=-0.418 total time=   0.1s\n",
      "[CV 2/5] END ...C=10, gamma=0.0001, kernel=rbf;, score=-0.549 total time=   0.1s\n",
      "[CV 3/5] END ...C=10, gamma=0.0001, kernel=rbf;, score=-0.536 total time=   0.1s\n",
      "[CV 4/5] END ...C=10, gamma=0.0001, kernel=rbf;, score=-0.589 total time=   0.1s\n",
      "[CV 5/5] END ...C=10, gamma=0.0001, kernel=rbf;, score=-0.414 total time=   0.1s\n",
      "[CV 1/5] END .......C=100, gamma=1, kernel=rbf;, score=-0.004 total time=   0.1s\n",
      "[CV 2/5] END .......C=100, gamma=1, kernel=rbf;, score=-0.019 total time=   0.1s\n",
      "[CV 3/5] END .......C=100, gamma=1, kernel=rbf;, score=-0.004 total time=   0.1s\n",
      "[CV 4/5] END .......C=100, gamma=1, kernel=rbf;, score=-0.008 total time=   0.1s\n",
      "[CV 5/5] END .......C=100, gamma=1, kernel=rbf;, score=-0.000 total time=   0.1s\n",
      "[CV 1/5] END .....C=100, gamma=0.1, kernel=rbf;, score=-0.004 total time=   0.1s\n",
      "[CV 2/5] END .....C=100, gamma=0.1, kernel=rbf;, score=-0.018 total time=   0.1s\n",
      "[CV 3/5] END .....C=100, gamma=0.1, kernel=rbf;, score=-0.002 total time=   0.1s\n",
      "[CV 4/5] END .....C=100, gamma=0.1, kernel=rbf;, score=-0.006 total time=   0.1s\n",
      "[CV 5/5] END ......C=100, gamma=0.1, kernel=rbf;, score=0.002 total time=   0.1s\n",
      "[CV 1/5] END ....C=100, gamma=0.01, kernel=rbf;, score=-0.025 total time=   0.1s\n",
      "[CV 2/5] END ....C=100, gamma=0.01, kernel=rbf;, score=-0.039 total time=   0.1s\n",
      "[CV 3/5] END .....C=100, gamma=0.01, kernel=rbf;, score=0.001 total time=   0.1s\n",
      "[CV 4/5] END ....C=100, gamma=0.01, kernel=rbf;, score=-0.032 total time=   0.1s\n",
      "[CV 5/5] END ....C=100, gamma=0.01, kernel=rbf;, score=-0.020 total time=   0.1s\n",
      "[CV 1/5] END ...C=100, gamma=0.001, kernel=rbf;, score=-0.154 total time=   0.1s\n",
      "[CV 2/5] END ...C=100, gamma=0.001, kernel=rbf;, score=-0.233 total time=   0.1s\n",
      "[CV 3/5] END ...C=100, gamma=0.001, kernel=rbf;, score=-0.202 total time=   0.1s\n",
      "[CV 4/5] END ...C=100, gamma=0.001, kernel=rbf;, score=-0.199 total time=   0.1s\n",
      "[CV 5/5] END ...C=100, gamma=0.001, kernel=rbf;, score=-0.211 total time=   0.1s\n",
      "[CV 1/5] END ..C=100, gamma=0.0001, kernel=rbf;, score=-0.770 total time=   0.2s\n",
      "[CV 2/5] END ..C=100, gamma=0.0001, kernel=rbf;, score=-1.184 total time=   0.3s\n",
      "[CV 3/5] END ..C=100, gamma=0.0001, kernel=rbf;, score=-1.238 total time=   0.3s\n",
      "[CV 4/5] END ..C=100, gamma=0.0001, kernel=rbf;, score=-1.308 total time=   0.3s\n",
      "[CV 5/5] END ..C=100, gamma=0.0001, kernel=rbf;, score=-0.825 total time=   0.3s\n",
      "[CV 1/5] END ......C=1000, gamma=1, kernel=rbf;, score=-0.004 total time=   0.1s\n",
      "[CV 2/5] END ......C=1000, gamma=1, kernel=rbf;, score=-0.019 total time=   0.1s\n",
      "[CV 3/5] END ......C=1000, gamma=1, kernel=rbf;, score=-0.004 total time=   0.1s\n",
      "[CV 4/5] END ......C=1000, gamma=1, kernel=rbf;, score=-0.008 total time=   0.1s\n",
      "[CV 5/5] END ......C=1000, gamma=1, kernel=rbf;, score=-0.000 total time=   0.1s\n",
      "[CV 1/5] END ....C=1000, gamma=0.1, kernel=rbf;, score=-0.004 total time=   0.1s\n",
      "[CV 2/5] END ....C=1000, gamma=0.1, kernel=rbf;, score=-0.018 total time=   0.1s\n",
      "[CV 3/5] END ....C=1000, gamma=0.1, kernel=rbf;, score=-0.002 total time=   0.1s\n",
      "[CV 4/5] END ....C=1000, gamma=0.1, kernel=rbf;, score=-0.006 total time=   0.1s\n",
      "[CV 5/5] END .....C=1000, gamma=0.1, kernel=rbf;, score=0.002 total time=   0.1s\n",
      "[CV 1/5] END ...C=1000, gamma=0.01, kernel=rbf;, score=-0.025 total time=   0.1s\n",
      "[CV 2/5] END ...C=1000, gamma=0.01, kernel=rbf;, score=-0.039 total time=   0.1s\n",
      "[CV 3/5] END ....C=1000, gamma=0.01, kernel=rbf;, score=0.001 total time=   0.1s\n",
      "[CV 4/5] END ...C=1000, gamma=0.01, kernel=rbf;, score=-0.032 total time=   0.1s\n",
      "[CV 5/5] END ...C=1000, gamma=0.01, kernel=rbf;, score=-0.020 total time=   0.1s\n",
      "[CV 1/5] END ..C=1000, gamma=0.001, kernel=rbf;, score=-0.154 total time=   0.1s\n",
      "[CV 2/5] END ..C=1000, gamma=0.001, kernel=rbf;, score=-0.234 total time=   0.1s\n",
      "[CV 3/5] END ..C=1000, gamma=0.001, kernel=rbf;, score=-0.202 total time=   0.1s\n",
      "[CV 4/5] END ..C=1000, gamma=0.001, kernel=rbf;, score=-0.199 total time=   0.1s\n",
      "[CV 5/5] END ..C=1000, gamma=0.001, kernel=rbf;, score=-0.211 total time=   0.1s\n",
      "[CV 1/5] END .C=1000, gamma=0.0001, kernel=rbf;, score=-1.064 total time=   0.6s\n",
      "[CV 2/5] END .C=1000, gamma=0.0001, kernel=rbf;, score=-1.651 total time=   0.6s\n",
      "[CV 3/5] END .C=1000, gamma=0.0001, kernel=rbf;, score=-1.677 total time=   0.7s\n",
      "[CV 4/5] END .C=1000, gamma=0.0001, kernel=rbf;, score=-1.688 total time=   0.7s\n",
      "[CV 5/5] END .C=1000, gamma=0.0001, kernel=rbf;, score=-1.494 total time=   0.6s\n"
     ]
    },
    {
     "data": {
      "text/html": [
       "<style>#sk-container-id-1 {color: black;}#sk-container-id-1 pre{padding: 0;}#sk-container-id-1 div.sk-toggleable {background-color: white;}#sk-container-id-1 label.sk-toggleable__label {cursor: pointer;display: block;width: 100%;margin-bottom: 0;padding: 0.3em;box-sizing: border-box;text-align: center;}#sk-container-id-1 label.sk-toggleable__label-arrow:before {content: \"▸\";float: left;margin-right: 0.25em;color: #696969;}#sk-container-id-1 label.sk-toggleable__label-arrow:hover:before {color: black;}#sk-container-id-1 div.sk-estimator:hover label.sk-toggleable__label-arrow:before {color: black;}#sk-container-id-1 div.sk-toggleable__content {max-height: 0;max-width: 0;overflow: hidden;text-align: left;background-color: #f0f8ff;}#sk-container-id-1 div.sk-toggleable__content pre {margin: 0.2em;color: black;border-radius: 0.25em;background-color: #f0f8ff;}#sk-container-id-1 input.sk-toggleable__control:checked~div.sk-toggleable__content {max-height: 200px;max-width: 100%;overflow: auto;}#sk-container-id-1 input.sk-toggleable__control:checked~label.sk-toggleable__label-arrow:before {content: \"▾\";}#sk-container-id-1 div.sk-estimator input.sk-toggleable__control:checked~label.sk-toggleable__label {background-color: #d4ebff;}#sk-container-id-1 div.sk-label input.sk-toggleable__control:checked~label.sk-toggleable__label {background-color: #d4ebff;}#sk-container-id-1 input.sk-hidden--visually {border: 0;clip: rect(1px 1px 1px 1px);clip: rect(1px, 1px, 1px, 1px);height: 1px;margin: -1px;overflow: hidden;padding: 0;position: absolute;width: 1px;}#sk-container-id-1 div.sk-estimator {font-family: monospace;background-color: #f0f8ff;border: 1px dotted black;border-radius: 0.25em;box-sizing: border-box;margin-bottom: 0.5em;}#sk-container-id-1 div.sk-estimator:hover {background-color: #d4ebff;}#sk-container-id-1 div.sk-parallel-item::after {content: \"\";width: 100%;border-bottom: 1px solid gray;flex-grow: 1;}#sk-container-id-1 div.sk-label:hover label.sk-toggleable__label {background-color: #d4ebff;}#sk-container-id-1 div.sk-serial::before {content: \"\";position: absolute;border-left: 1px solid gray;box-sizing: border-box;top: 0;bottom: 0;left: 50%;z-index: 0;}#sk-container-id-1 div.sk-serial {display: flex;flex-direction: column;align-items: center;background-color: white;padding-right: 0.2em;padding-left: 0.2em;position: relative;}#sk-container-id-1 div.sk-item {position: relative;z-index: 1;}#sk-container-id-1 div.sk-parallel {display: flex;align-items: stretch;justify-content: center;background-color: white;position: relative;}#sk-container-id-1 div.sk-item::before, #sk-container-id-1 div.sk-parallel-item::before {content: \"\";position: absolute;border-left: 1px solid gray;box-sizing: border-box;top: 0;bottom: 0;left: 50%;z-index: -1;}#sk-container-id-1 div.sk-parallel-item {display: flex;flex-direction: column;z-index: 1;position: relative;background-color: white;}#sk-container-id-1 div.sk-parallel-item:first-child::after {align-self: flex-end;width: 50%;}#sk-container-id-1 div.sk-parallel-item:last-child::after {align-self: flex-start;width: 50%;}#sk-container-id-1 div.sk-parallel-item:only-child::after {width: 0;}#sk-container-id-1 div.sk-dashed-wrapped {border: 1px dashed gray;margin: 0 0.4em 0.5em 0.4em;box-sizing: border-box;padding-bottom: 0.4em;background-color: white;}#sk-container-id-1 div.sk-label label {font-family: monospace;font-weight: bold;display: inline-block;line-height: 1.2em;}#sk-container-id-1 div.sk-label-container {text-align: center;}#sk-container-id-1 div.sk-container {/* jupyter's `normalize.less` sets `[hidden] { display: none; }` but bootstrap.min.css set `[hidden] { display: none !important; }` so we also need the `!important` here to be able to override the default hidden behavior on the sphinx rendered scikit-learn.org. See: https://github.com/scikit-learn/scikit-learn/issues/21755 */display: inline-block !important;position: relative;}#sk-container-id-1 div.sk-text-repr-fallback {display: none;}</style><div id=\"sk-container-id-1\" class=\"sk-top-container\"><div class=\"sk-text-repr-fallback\"><pre>GridSearchCV(estimator=SVR(),\n",
       "             param_grid={&#x27;C&#x27;: [0.1, 1, 10, 100, 1000],\n",
       "                         &#x27;gamma&#x27;: [1, 0.1, 0.01, 0.001, 0.0001],\n",
       "                         &#x27;kernel&#x27;: [&#x27;rbf&#x27;]},\n",
       "             verbose=3)</pre><b>In a Jupyter environment, please rerun this cell to show the HTML representation or trust the notebook. <br />On GitHub, the HTML representation is unable to render, please try loading this page with nbviewer.org.</b></div><div class=\"sk-container\" hidden><div class=\"sk-item sk-dashed-wrapped\"><div class=\"sk-label-container\"><div class=\"sk-label sk-toggleable\"><input class=\"sk-toggleable__control sk-hidden--visually\" id=\"sk-estimator-id-1\" type=\"checkbox\" ><label for=\"sk-estimator-id-1\" class=\"sk-toggleable__label sk-toggleable__label-arrow\">GridSearchCV</label><div class=\"sk-toggleable__content\"><pre>GridSearchCV(estimator=SVR(),\n",
       "             param_grid={&#x27;C&#x27;: [0.1, 1, 10, 100, 1000],\n",
       "                         &#x27;gamma&#x27;: [1, 0.1, 0.01, 0.001, 0.0001],\n",
       "                         &#x27;kernel&#x27;: [&#x27;rbf&#x27;]},\n",
       "             verbose=3)</pre></div></div></div><div class=\"sk-parallel\"><div class=\"sk-parallel-item\"><div class=\"sk-item\"><div class=\"sk-label-container\"><div class=\"sk-label sk-toggleable\"><input class=\"sk-toggleable__control sk-hidden--visually\" id=\"sk-estimator-id-2\" type=\"checkbox\" ><label for=\"sk-estimator-id-2\" class=\"sk-toggleable__label sk-toggleable__label-arrow\">estimator: SVR</label><div class=\"sk-toggleable__content\"><pre>SVR()</pre></div></div></div><div class=\"sk-serial\"><div class=\"sk-item\"><div class=\"sk-estimator sk-toggleable\"><input class=\"sk-toggleable__control sk-hidden--visually\" id=\"sk-estimator-id-3\" type=\"checkbox\" ><label for=\"sk-estimator-id-3\" class=\"sk-toggleable__label sk-toggleable__label-arrow\">SVR</label><div class=\"sk-toggleable__content\"><pre>SVR()</pre></div></div></div></div></div></div></div></div></div></div>"
      ],
      "text/plain": [
       "GridSearchCV(estimator=SVR(),\n",
       "             param_grid={'C': [0.1, 1, 10, 100, 1000],\n",
       "                         'gamma': [1, 0.1, 0.01, 0.001, 0.0001],\n",
       "                         'kernel': ['rbf']},\n",
       "             verbose=3)"
      ]
     },
     "execution_count": 17,
     "metadata": {},
     "output_type": "execute_result"
    }
   ],
   "source": [
    "from sklearn.svm import SVR\n",
    "from sklearn.model_selection import GridSearchCV\n",
    "\n",
    "svr = SVR()\n",
    "\n",
    "param_grid = {'C': [0.1, 1, 10, 100, 1000],\n",
    "              'gamma': [1, 0.1, 0.01, 0.001, 0.0001],\n",
    "              'kernel': ['rbf']}\n",
    "\n",
    "grid = GridSearchCV(SVR(), param_grid, refit=True, verbose=3)\n",
    "grid.fit(X_train, y_train)"
   ]
  },
  {
   "cell_type": "code",
   "execution_count": 23,
   "metadata": {},
   "outputs": [],
   "source": [
    "svr = SVR(C=10, gamma=0.01, kernel='rbf')\n",
    "svr.fit(X_train, y_train)\n",
    "svr_pred = svr.predict(X_test)"
   ]
  },
  {
   "cell_type": "code",
   "execution_count": 30,
   "metadata": {},
   "outputs": [],
   "source": [
    "import joblib\n",
    "\n",
    "model = Ridge()\n",
    "\n",
    "joblib.dump(model, 'model.pkl')\n",
    "\n",
    "ridge_from_joblib = joblib.load(\"model.pkl\")"
   ]
  }
 ],
 "metadata": {
  "kernelspec": {
   "display_name": "Python 3",
   "language": "python",
   "name": "python3"
  },
  "language_info": {
   "codemirror_mode": {
    "name": "ipython",
    "version": 3
   },
   "file_extension": ".py",
   "mimetype": "text/x-python",
   "name": "python",
   "nbconvert_exporter": "python",
   "pygments_lexer": "ipython3",
   "version": "3.10.7"
  },
  "orig_nbformat": 4
 },
 "nbformat": 4,
 "nbformat_minor": 2
}
